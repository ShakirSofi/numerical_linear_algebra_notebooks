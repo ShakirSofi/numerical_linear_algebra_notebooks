{
 "cells": [
  {
   "cell_type": "code",
   "execution_count": null,
   "metadata": {},
   "outputs": [],
   "source": [
    "import numpy as np\n",
    "%matplotlib inline\n",
    "import matplotlib.pyplot as plt\n",
    "import matplotlib as mpl\n",
    "mpl.rcParams['axes.autolimit_mode'] = 'round_numbers'\n",
    "mpl.rcParams['axes.xmargin'] = 0\n",
    "mpl.rcParams['axes.ymargin'] = 0"
   ]
  },
  {
   "cell_type": "code",
   "execution_count": null,
   "metadata": {},
   "outputs": [],
   "source": [
    "A = np.random.rand(2,2)\n",
    "A = A+A.T\n",
    "Lambda, X = np.linalg.eig(A)\n",
    "Lambda = np.array([1., 0.99])\n",
    "A = np.dot(X,np.dot(np.diag(Lambda),np.linalg.inv(X)))\n",
    "Lambda, X = np.linalg.eig(A)\n",
    "print(Lambda)\n",
    "print(X)\n",
    "j = np.argmax(np.abs(Lambda))"
   ]
  },
  {
   "cell_type": "code",
   "execution_count": null,
   "metadata": {},
   "outputs": [],
   "source": [
    "theta = np.linspace(0,2*np.pi,200)\n",
    "unit_circle = np.zeros((2, len(theta)))\n",
    "for i, thet in enumerate(theta):\n",
    "    unit_circle[0,i] = np.cos(thet)\n",
    "    unit_circle[1,i] = np.sin(thet)\n",
    "plt.plot(unit_circle[0,:],unit_circle[1,:],'.')\n",
    "plt.plot([0,Lambda[j]*X[0,j]],[0,Lambda[j]*X[1,j]],'-k',lw=3)\n",
    "plt.plot([0,Lambda[1-j]*X[0,1-j]],[0,Lambda[1-j]*X[1,1-j]],'-k',lw=3)\n",
    "plt.axis('equal');"
   ]
  },
  {
   "cell_type": "code",
   "execution_count": null,
   "metadata": {},
   "outputs": [],
   "source": [
    "it = np.dot(A,unit_circle)\n",
    "plt.plot(it[0,:],it[1,:],'.')\n",
    "plt.plot([-2,2],[0,0],'--k')\n",
    "plt.plot([0,0],[-2,2],'--k')\n",
    "plt.plot([0,Lambda[j]*X[0,j]],[0,Lambda[j]*X[1,j]],'-k',lw=3)\n",
    "plt.plot([0,Lambda[1-j]*X[0,1-j]],[0,Lambda[1-j]*X[1,1-j]],'-k',lw=3)\n",
    "plt.axis('image');"
   ]
  },
  {
   "cell_type": "code",
   "execution_count": null,
   "metadata": {},
   "outputs": [],
   "source": [
    "it = np.dot(A,it)\n",
    "plt.plot(it[0,:],it[1,:],'.')\n",
    "plt.plot([-2,2],[0,0],'--k')\n",
    "plt.plot([0,0],[-2,2],'--k')\n",
    "plt.plot([0,Lambda[j]*X[0,j]],[0,Lambda[j]*X[1,j]],'-k',lw=3)\n",
    "plt.plot([0,Lambda[1-j]*X[0,1-j]],[0,Lambda[1-j]*X[1,1-j]],'-k',lw=3)\n",
    "plt.axis('image');"
   ]
  },
  {
   "cell_type": "code",
   "execution_count": null,
   "metadata": {},
   "outputs": [],
   "source": [
    "it = np.dot(A,it)\n",
    "plt.plot(it[0,:],it[1,:],'.')\n",
    "plt.plot([-2,2],[0,0],'--k')\n",
    "plt.plot([0,0],[-2,2],'--k')\n",
    "plt.plot([0,Lambda[j]*X[0,j]],[0,Lambda[j]*X[1,j]],'-k',lw=3)\n",
    "plt.plot([0,Lambda[1-j]*X[0,1-j]],[0,Lambda[1-j]*X[1,1-j]],'-k',lw=3)\n",
    "plt.axis('image');"
   ]
  },
  {
   "cell_type": "code",
   "execution_count": null,
   "metadata": {},
   "outputs": [],
   "source": [
    "def map_circle(A,k,zoom=False):\n",
    "    Lambda, X = np.linalg.eig(A)\n",
    "    j = np.argmax(np.abs(Lambda))\n",
    "    theta = np.linspace(0,2*np.pi,200)\n",
    "    unit_circle = np.zeros((2, len(theta)))\n",
    "    for i, thet in enumerate(theta):\n",
    "        unit_circle[0,i] = np.cos(thet)\n",
    "        unit_circle[1,i] = np.sin(thet)\n",
    "    it = np.dot(np.linalg.matrix_power(A,k),unit_circle)\n",
    "    plt.plot(it[0,:],it[1,:],'.')\n",
    "    plt.plot([-2,2],[0,0],'--k')\n",
    "    plt.plot([0,0],[-2,2],'--k')\n",
    "    plt.plot([0,Lambda[j]*X[0,j]],[0,Lambda[j]*X[1,j]],'-k',lw=3,alpha=0.5)\n",
    "    plt.plot([0,Lambda[1-j]*X[0,1-j]],[0,Lambda[1-j]*X[1,1-j]],'-k',lw=3,alpha=0.5)\n",
    "    plt.axis('image');\n",
    "    if zoom:\n",
    "        plt.axis([-2,2,-2,2])\n",
    "    plt.show()"
   ]
  },
  {
   "cell_type": "code",
   "execution_count": null,
   "metadata": {},
   "outputs": [],
   "source": [
    "map_circle(A,0)"
   ]
  },
  {
   "cell_type": "code",
   "execution_count": null,
   "metadata": {},
   "outputs": [],
   "source": [
    "from ipywidgets import interact, fixed, IntSlider\n",
    "\n",
    "interact(map_circle,A=fixed(A),k=IntSlider(min=0,max=20,value=0),zoom=fixed(False));"
   ]
  },
  {
   "cell_type": "code",
   "execution_count": null,
   "metadata": {},
   "outputs": [],
   "source": [
    "interact(map_circle,A=fixed(A),k=IntSlider(min=0,max=20,value=0),zoom=fixed(True));"
   ]
  },
  {
   "cell_type": "code",
   "execution_count": null,
   "metadata": {},
   "outputs": [],
   "source": []
  }
 ],
 "metadata": {
  "kernelspec": {
   "display_name": "Python 3",
   "language": "python",
   "name": "python3"
  },
  "language_info": {
   "codemirror_mode": {
    "name": "ipython",
    "version": 3
   },
   "file_extension": ".py",
   "mimetype": "text/x-python",
   "name": "python",
   "nbconvert_exporter": "python",
   "pygments_lexer": "ipython3",
   "version": "3.6.5"
  },
  "toc": {
   "base_numbering": 1,
   "nav_menu": {},
   "number_sections": true,
   "sideBar": true,
   "skip_h1_title": false,
   "title_cell": "Table of Contents",
   "title_sidebar": "Contents",
   "toc_cell": false,
   "toc_position": {},
   "toc_section_display": true,
   "toc_window_display": false
  }
 },
 "nbformat": 4,
 "nbformat_minor": 2
}
