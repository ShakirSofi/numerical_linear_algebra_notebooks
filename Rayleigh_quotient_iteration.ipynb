{
 "cells": [
  {
   "cell_type": "code",
   "execution_count": null,
   "metadata": {},
   "outputs": [],
   "source": [
    "import numpy as np\n",
    "%matplotlib inline\n",
    "import matplotlib.pyplot as plt"
   ]
  },
  {
   "cell_type": "markdown",
   "metadata": {},
   "source": [
    "# Power iteration"
   ]
  },
  {
   "cell_type": "code",
   "execution_count": null,
   "metadata": {},
   "outputs": [],
   "source": [
    "def power_iteration(A,v0,niter=5):\n",
    "    v = v0\n",
    "    vv = [v0]\n",
    "    ll = [np.dot(v0,np.dot(A,v0))]\n",
    "    for k in range(niter):\n",
    "        w = np.dot(A,v)\n",
    "        v = w/np.linalg.norm(w)\n",
    "        lamda = np.dot(v,np.dot(A,v))\n",
    "        vv.append(v)\n",
    "        ll.append(lamda)\n",
    "    return ll, vv"
   ]
  },
  {
   "cell_type": "markdown",
   "metadata": {},
   "source": [
    "# Inverse iteration"
   ]
  },
  {
   "cell_type": "code",
   "execution_count": null,
   "metadata": {},
   "outputs": [],
   "source": [
    "def inverse_iteration(A,v0,mu,niter=5):\n",
    "    v = v0\n",
    "    I = np.eye(len(v0))\n",
    "    vv = [v0]\n",
    "    ll = [np.dot(v0,np.dot(A,v0))]\n",
    "    for k in range(niter):\n",
    "        w = np.linalg.solve(A-mu*I,v)\n",
    "        v = w/np.linalg.norm(w)\n",
    "        lamda = np.dot(v,np.dot(A,v))\n",
    "        vv.append(v)\n",
    "        ll.append(lamda)\n",
    "    return ll, vv"
   ]
  },
  {
   "cell_type": "markdown",
   "metadata": {},
   "source": [
    "# Rayleigh Quotient Iteration"
   ]
  },
  {
   "cell_type": "code",
   "execution_count": null,
   "metadata": {},
   "outputs": [],
   "source": [
    "def rayleigh_quotient_iteration(A,v0,niter=5):\n",
    "    v = v0\n",
    "    I = np.eye(len(v0))\n",
    "    lamda = np.dot(v0,np.dot(A,v0))/np.linalg.norm(v0)\n",
    "    vv = [v0]\n",
    "    ll = [np.dot(v0,np.dot(A,v0))/np.linalg.norm(v0)]\n",
    "    for k in range(niter):\n",
    "        w = np.linalg.solve(A-lamda*I,v)\n",
    "        v = w/np.linalg.norm(w)\n",
    "        lamda = np.dot(v,np.dot(A,v))\n",
    "        vv.append(v)\n",
    "        ll.append(lamda)\n",
    "    return ll, vv"
   ]
  },
  {
   "cell_type": "markdown",
   "metadata": {},
   "source": [
    "# Examples"
   ]
  },
  {
   "cell_type": "markdown",
   "metadata": {},
   "source": [
    "First, let's try a symmetric matrix."
   ]
  },
  {
   "cell_type": "code",
   "execution_count": null,
   "metadata": {},
   "outputs": [],
   "source": [
    "A = np.array([[2.,1,1],[1,3,1],[1,1,4]])\n",
    "print(A)\n",
    "print(np.linalg.eigvals(A))\n",
    "lam =(np.linalg.eigvals(A)[0])"
   ]
  },
  {
   "cell_type": "code",
   "execution_count": null,
   "metadata": {},
   "outputs": [],
   "source": [
    "ll, vv = power_iteration(A,np.ones(3))\n",
    "plt.plot(range(len(ll)),ll,'-o')\n",
    "plt.ylabel('Eigenvalue approximation')\n",
    "plt.xlabel('Iteration');"
   ]
  },
  {
   "cell_type": "code",
   "execution_count": null,
   "metadata": {},
   "outputs": [],
   "source": [
    "plt.semilogy(np.abs(ll-lam))\n",
    "plt.ylabel('Error'); plt.title('Power iteration')\n",
    "plt.xlabel('Iteration');"
   ]
  },
  {
   "cell_type": "code",
   "execution_count": null,
   "metadata": {},
   "outputs": [],
   "source": [
    "mu=5\n",
    "ll, vv = inverse_iteration(A,np.ones(3),mu)\n",
    "plt.semilogy(np.abs(ll-lam))\n",
    "plt.ylabel('Error'); plt.title('Inverse iteration')\n",
    "plt.xlabel('Iteration');"
   ]
  },
  {
   "cell_type": "code",
   "execution_count": null,
   "metadata": {},
   "outputs": [],
   "source": [
    "ll, vv = rayleigh_quotient_iteration(A,np.ones(3))\n",
    "plt.semilogy(np.abs(ll-lam))\n",
    "plt.ylabel('Error'); plt.title('Rayleigh quotient iteration')\n",
    "plt.xlabel('Iteration');"
   ]
  },
  {
   "cell_type": "markdown",
   "metadata": {},
   "source": [
    "Here's a comparison of all three methods."
   ]
  },
  {
   "cell_type": "code",
   "execution_count": null,
   "metadata": {},
   "outputs": [],
   "source": [
    "ll1, vv = power_iteration(A,np.ones(3))\n",
    "ll2, vv = inverse_iteration(A,np.ones(3),mu)\n",
    "ll3, vv = rayleigh_quotient_iteration(A,np.ones(3))\n",
    "plt.semilogy(np.abs(ll1-lam))\n",
    "plt.semilogy(np.abs(ll2-lam))\n",
    "plt.semilogy(np.abs(ll3-lam))\n",
    "plt.ylabel('Error'); plt.xlabel('Iteration')\n",
    "plt.legend(['Power','Inverse','Rayleigh'],loc='best');"
   ]
  },
  {
   "cell_type": "markdown",
   "metadata": {},
   "source": [
    "Now let's try a non-symmetric matrix (but with distinct real eigenvalues)."
   ]
  },
  {
   "cell_type": "code",
   "execution_count": null,
   "metadata": {},
   "outputs": [],
   "source": [
    "A = np.array([[2.,5.,1],[1,3,1],[1,1,4]])\n",
    "print(A)\n",
    "print(np.linalg.eigvals(A))\n",
    "lam =(np.linalg.eigvals(A)[0])"
   ]
  },
  {
   "cell_type": "code",
   "execution_count": null,
   "metadata": {},
   "outputs": [],
   "source": [
    "ll1, vv = power_iteration(A,np.ones(3))\n",
    "ll2, vv = inverse_iteration(A,np.ones(3),5.)\n",
    "ll3, vv = rayleigh_quotient_iteration(A,np.ones(3))\n",
    "plt.semilogy(np.abs(ll1-lam))\n",
    "plt.semilogy(np.abs(ll2-lam))\n",
    "plt.semilogy(np.abs(ll3-lam))\n",
    "plt.ylabel('Error'); plt.xlabel('Iteration')\n",
    "plt.legend(['Power','Inverse','Rayleigh'],loc='best');"
   ]
  },
  {
   "cell_type": "markdown",
   "metadata": {},
   "source": [
    "# QR iteration"
   ]
  },
  {
   "cell_type": "code",
   "execution_count": null,
   "metadata": {},
   "outputs": [],
   "source": [
    "A = np.array([[2.,1,1],[1,3,1],[1,1,4]])\n",
    "#A = np.array([[2.,5.,1],[1,3,1],[1,1,4]])\n",
    "print(A)\n",
    "print(np.linalg.eigvals(A))"
   ]
  },
  {
   "cell_type": "code",
   "execution_count": null,
   "metadata": {},
   "outputs": [],
   "source": [
    "niter = 20\n",
    "for i in range(niter):\n",
    "    Q, R = np.linalg.qr(A)\n",
    "    A = np.dot(R,Q)\n",
    "print(A)"
   ]
  },
  {
   "cell_type": "code",
   "execution_count": null,
   "metadata": {},
   "outputs": [],
   "source": [
    "print(np.diag(A))"
   ]
  }
 ],
 "metadata": {
  "kernelspec": {
   "display_name": "Python 3",
   "language": "python",
   "name": "python3"
  },
  "language_info": {
   "codemirror_mode": {
    "name": "ipython",
    "version": 3
   },
   "file_extension": ".py",
   "mimetype": "text/x-python",
   "name": "python",
   "nbconvert_exporter": "python",
   "pygments_lexer": "ipython3",
   "version": "3.6.5"
  },
  "toc": {
   "base_numbering": 1,
   "nav_menu": {},
   "number_sections": true,
   "sideBar": true,
   "skip_h1_title": false,
   "title_cell": "Table of Contents",
   "title_sidebar": "Contents",
   "toc_cell": false,
   "toc_position": {},
   "toc_section_display": true,
   "toc_window_display": false
  }
 },
 "nbformat": 4,
 "nbformat_minor": 1
}
